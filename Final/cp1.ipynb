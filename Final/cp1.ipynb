{
  "nbformat": 4,
  "nbformat_minor": 0,
  "metadata": {
    "colab": {
      "provenance": []
    },
    "kernelspec": {
      "name": "python3",
      "display_name": "Python 3"
    },
    "language_info": {
      "name": "python"
    }
  },
  "cells": [
    {
      "cell_type": "code",
      "execution_count": 1,
      "metadata": {
        "id": "We4N5sCBi6Rn"
      },
      "outputs": [],
      "source": [
        "import tensorflow as tf\n",
        "from tensorflow.keras import layers, models\n",
        "from tensorflow.keras.datasets import mnist\n",
        "from tensorflow.keras.utils import to_categorical"
      ]
    },
    {
      "cell_type": "code",
      "source": [
        "(train_images, train_labels), (test_images, test_labels) = mnist.load_data()"
      ],
      "metadata": {
        "colab": {
          "base_uri": "https://localhost:8080/"
        },
        "id": "y-_ji1xSjOJN",
        "outputId": "64085efe-5996-420c-d8c2-fe3315accca5"
      },
      "execution_count": 2,
      "outputs": [
        {
          "output_type": "stream",
          "name": "stdout",
          "text": [
            "Downloading data from https://storage.googleapis.com/tensorflow/tf-keras-datasets/mnist.npz\n",
            "11490434/11490434 [==============================] - 1s 0us/step\n"
          ]
        }
      ]
    },
    {
      "cell_type": "code",
      "source": [
        "train_images = train_images.reshape((60000, 28, 28, 1))\n",
        "train_images = train_images.astype('float32') / 255"
      ],
      "metadata": {
        "id": "GLWdollLjXRv"
      },
      "execution_count": 3,
      "outputs": []
    },
    {
      "cell_type": "code",
      "source": [
        "test_images = test_images.reshape((10000, 28, 28, 1))\n",
        "test_images = test_images.astype('float32') / 255"
      ],
      "metadata": {
        "id": "JzBn1VowjlAg"
      },
      "execution_count": 4,
      "outputs": []
    },
    {
      "cell_type": "code",
      "source": [
        "train_labels = to_categorical(train_labels)\n",
        "test_labels = to_categorical(test_labels)\n"
      ],
      "metadata": {
        "id": "JezOsRgRjnYn"
      },
      "execution_count": 5,
      "outputs": []
    },
    {
      "cell_type": "code",
      "source": [
        "def create_model():\n",
        "    model = models.Sequential()\n",
        "    model.add(layers.Conv2D(32, (3, 3), activation='relu', input_shape=(28, 28, 1)))\n",
        "    model.add(layers.MaxPooling2D((2, 2)))\n",
        "    model.add(layers.Conv2D(64, (3, 3), activation='relu'))\n",
        "    model.add(layers.MaxPooling2D((2, 2)))\n",
        "    model.add(layers.Conv2D(64, (3, 3), activation='relu'))\n",
        "    model.add(layers.Flatten())\n",
        "    model.add(layers.Dense(64, activation='relu'))\n",
        "    model.add(layers.Dense(10, activation='softmax'))\n",
        "    return model\n",
        "\n",
        "optimizers = ['sgd', 'adam', 'rmsprop']"
      ],
      "metadata": {
        "id": "uRa4vJp9jruu"
      },
      "execution_count": 6,
      "outputs": []
    },
    {
      "cell_type": "code",
      "source": [
        "for optimizer in optimizers:\n",
        "    print(f\"Training with {optimizer.upper()} optimizer...\")\n",
        "    model = create_model()\n",
        "    model.compile(optimizer=optimizer,\n",
        "                  loss='categorical_crossentropy',\n",
        "                  metrics=['accuracy'])\n",
        "    model.fit(train_images, train_labels, epochs=5, batch_size=64)"
      ],
      "metadata": {
        "colab": {
          "base_uri": "https://localhost:8080/"
        },
        "id": "8q-u-GnJkX-c",
        "outputId": "dfc65e29-c854-441e-d7aa-242c5838267e"
      },
      "execution_count": 9,
      "outputs": [
        {
          "output_type": "stream",
          "name": "stdout",
          "text": [
            "Training with SGD optimizer...\n",
            "Epoch 1/5\n",
            "938/938 [==============================] - 45s 47ms/step - loss: 0.9193 - accuracy: 0.7346\n",
            "Epoch 2/5\n",
            "938/938 [==============================] - 44s 47ms/step - loss: 0.2294 - accuracy: 0.9303\n",
            "Epoch 3/5\n",
            "938/938 [==============================] - 43s 46ms/step - loss: 0.1460 - accuracy: 0.9562\n",
            "Epoch 4/5\n",
            "938/938 [==============================] - 44s 47ms/step - loss: 0.1114 - accuracy: 0.9658\n",
            "Epoch 5/5\n",
            "938/938 [==============================] - 44s 47ms/step - loss: 0.0917 - accuracy: 0.9719\n",
            "Training with ADAM optimizer...\n",
            "Epoch 1/5\n",
            "938/938 [==============================] - 45s 47ms/step - loss: 0.1759 - accuracy: 0.9468\n",
            "Epoch 2/5\n",
            "938/938 [==============================] - 45s 48ms/step - loss: 0.0494 - accuracy: 0.9850\n",
            "Epoch 3/5\n",
            "938/938 [==============================] - 45s 48ms/step - loss: 0.0342 - accuracy: 0.9891\n",
            "Epoch 4/5\n",
            "938/938 [==============================] - 44s 46ms/step - loss: 0.0274 - accuracy: 0.9914\n",
            "Epoch 5/5\n",
            "938/938 [==============================] - 44s 47ms/step - loss: 0.0225 - accuracy: 0.9929\n",
            "Training with RMSPROP optimizer...\n",
            "Epoch 1/5\n",
            "938/938 [==============================] - 45s 47ms/step - loss: 0.1881 - accuracy: 0.9413\n",
            "Epoch 2/5\n",
            "938/938 [==============================] - 43s 46ms/step - loss: 0.0486 - accuracy: 0.9851\n",
            "Epoch 3/5\n",
            "938/938 [==============================] - 44s 46ms/step - loss: 0.0342 - accuracy: 0.9894\n",
            "Epoch 4/5\n",
            "938/938 [==============================] - 44s 46ms/step - loss: 0.0250 - accuracy: 0.9921\n",
            "Epoch 5/5\n",
            "938/938 [==============================] - 43s 45ms/step - loss: 0.0192 - accuracy: 0.9938\n"
          ]
        }
      ]
    },
    {
      "cell_type": "code",
      "source": [
        "for optimizer in optimizers:\n",
        "    print(f\"Training with {optimizer.upper()} optimizer...\")\n",
        "    model = create_model()\n",
        "    model.compile(optimizer=optimizer,\n",
        "                  loss='categorical_crossentropy',\n",
        "                  metrics=['accuracy'])\n",
        "    model.fit(train_images, train_labels, epochs=5, batch_size=64)\n",
        "\n",
        "    test_loss, test_acc = model.evaluate(test_images, test_labels)\n",
        "    print(f\"Test accuracy with {optimizer.upper()} optimizer: {test_acc:.4f}\\n\")"
      ],
      "metadata": {
        "colab": {
          "base_uri": "https://localhost:8080/"
        },
        "id": "peTxXemFnawT",
        "outputId": "7f6b33cc-ab13-43ee-9c4b-bf41af971f4b"
      },
      "execution_count": 12,
      "outputs": [
        {
          "output_type": "stream",
          "name": "stdout",
          "text": [
            "Training with SGD optimizer...\n",
            "Epoch 1/5\n",
            "938/938 [==============================] - 44s 47ms/step - loss: 0.8904 - accuracy: 0.7376\n",
            "Epoch 2/5\n",
            "938/938 [==============================] - 43s 46ms/step - loss: 0.2321 - accuracy: 0.9305\n",
            "Epoch 3/5\n",
            "938/938 [==============================] - 44s 47ms/step - loss: 0.1504 - accuracy: 0.9556\n",
            "Epoch 4/5\n",
            "938/938 [==============================] - 44s 47ms/step - loss: 0.1158 - accuracy: 0.9649\n",
            "Epoch 5/5\n",
            "938/938 [==============================] - 43s 46ms/step - loss: 0.0960 - accuracy: 0.9715\n",
            "313/313 [==============================] - 3s 10ms/step - loss: 0.0764 - accuracy: 0.9767\n",
            "Test accuracy with SGD optimizer: 0.9767\n",
            "\n",
            "Training with ADAM optimizer...\n",
            "Epoch 1/5\n",
            "938/938 [==============================] - 44s 46ms/step - loss: 0.1879 - accuracy: 0.9419\n",
            "Epoch 2/5\n",
            "938/938 [==============================] - 43s 46ms/step - loss: 0.0487 - accuracy: 0.9849\n",
            "Epoch 3/5\n",
            "938/938 [==============================] - 43s 46ms/step - loss: 0.0343 - accuracy: 0.9891\n",
            "Epoch 4/5\n",
            "938/938 [==============================] - 42s 45ms/step - loss: 0.0262 - accuracy: 0.9919\n",
            "Epoch 5/5\n",
            "938/938 [==============================] - 43s 46ms/step - loss: 0.0225 - accuracy: 0.9923\n",
            "313/313 [==============================] - 3s 9ms/step - loss: 0.0296 - accuracy: 0.9906\n",
            "Test accuracy with ADAM optimizer: 0.9906\n",
            "\n",
            "Training with RMSPROP optimizer...\n",
            "Epoch 1/5\n",
            "938/938 [==============================] - 46s 48ms/step - loss: 0.1712 - accuracy: 0.9472\n",
            "Epoch 2/5\n",
            "938/938 [==============================] - 43s 46ms/step - loss: 0.0466 - accuracy: 0.9853\n",
            "Epoch 3/5\n",
            "938/938 [==============================] - 43s 45ms/step - loss: 0.0324 - accuracy: 0.9901\n",
            "Epoch 4/5\n",
            "938/938 [==============================] - 43s 46ms/step - loss: 0.0247 - accuracy: 0.9926\n",
            "Epoch 5/5\n",
            "938/938 [==============================] - 42s 45ms/step - loss: 0.0182 - accuracy: 0.9944\n",
            "313/313 [==============================] - 4s 11ms/step - loss: 0.0280 - accuracy: 0.9923\n",
            "Test accuracy with RMSPROP optimizer: 0.9923\n",
            "\n"
          ]
        }
      ]
    }
  ]
}